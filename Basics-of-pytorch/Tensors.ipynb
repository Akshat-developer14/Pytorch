{
 "cells": [
  {
   "cell_type": "markdown",
   "id": "02067c58",
   "metadata": {},
   "source": [
    "# What are tensors?"
   ]
  }
 ],
 "metadata": {
  "language_info": {
   "name": "python"
  }
 },
 "nbformat": 4,
 "nbformat_minor": 5
}
